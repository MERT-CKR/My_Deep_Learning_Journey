{
 "cells": [
  {
   "cell_type": "markdown",
   "id": "85a48e85",
   "metadata": {},
   "source": [
    "# Konular\n",
    "\n",
    "## 1. Regresyon Modelleri\n",
    "1.1 Linear Regression  \n",
    "1.2 Polynomial Regression  \n",
    "1.3 Ridge & Lasso Regression  \n",
    "1.4 Model değerlendirme (MSE, RMSE, R²)  \n",
    "1.5 Gerçek veri setiyle regresyon uygulaması  \n",
    "\n",
    "## 2. Sınıflandırma Modelleri\n",
    "2.1 Logistic Regression  \n",
    "2.2 KNN (K-Nearest Neighbors)  \n",
    "2.3 Decision Tree Classifier  \n",
    "2.4 Random Forest Classifier  \n",
    "2.5 Support Vector Machine (SVM)  \n",
    "2.6 Model değerlendirme (Accuracy, Precision, Recall, F1, Confusion Matrix)  \n",
    "2.7 Gerçek veri setiyle sınıflandırma uygulaması  \n",
    "\n",
    "## 3. Model Performansı ve İyileştirme\n",
    "3.1 Cross Validation (K-Fold)  \n",
    "3.2 GridSearchCV ile hiperparametre optimizasyonu  \n",
    "3.3 Özellik seçimi (Feature Selection)  \n",
    "3.4 Özellik ölçekleme (StandardScaler, MinMaxScaler)  \n",
    "3.5 Pipeline kullanımı  \n",
    "\n",
    "## 4. Gerçek Dünya Projesi\n",
    "4.1 Veri seti seçimi ve analizi  \n",
    "4.2 Model kurma ve karşılaştırma  \n",
    "4.3 Sonuçların görselleştirilmesi  \n",
    "4.4 Model kaydetme (joblib, pickle)  \n",
    "4.5 Proje sunumu için özet rapor  \n"
   ]
  },
  {
   "cell_type": "markdown",
   "id": "e2150ad3",
   "metadata": {},
   "source": []
  }
 ],
 "metadata": {
  "language_info": {
   "name": "python"
  }
 },
 "nbformat": 4,
 "nbformat_minor": 5
}
