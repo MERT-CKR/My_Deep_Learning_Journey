{
 "cells": [
  {
   "cell_type": "markdown",
   "id": "21b2064c",
   "metadata": {},
   "source": [
    "\n",
    "# NumPy Temelleri (DL Odaklı) — Okunaklı Versiyon\n",
    "\n",
    "Bu defter, derin öğrenme için gereken NumPy temellerini **okunaklı** çıktılar ile anlatır.  \n",
    "Her bölümde şu soruları cevaplıyoruz:\n",
    "- **Bu fonksiyon ne işe yarar?**\n",
    "- **Girdi → Çıktı nedir?**\n",
    "- **Ne değişti?**"
   ]
  },
  {
   "cell_type": "markdown",
   "id": "9a521127",
   "metadata": {},
   "source": [
    "## 0) Kurulum"
   ]
  },
  {
   "cell_type": "code",
   "execution_count": 12,
   "id": "5056d8c3",
   "metadata": {},
   "outputs": [
    {
     "name": "stdout",
     "output_type": "stream",
     "text": [
      "NumPy sürümü: 1.26.4\n"
     ]
    }
   ],
   "source": [
    "\n",
    "import numpy as np\n",
    "print(\"NumPy sürümü:\", np.__version__)\n"
   ]
  },
  {
   "cell_type": "markdown",
   "id": "e3a65e67",
   "metadata": {},
   "source": [
    "\n",
    "## 1) Array Oluşturma\n",
    "\n",
    "**Ne işe yarar?** Tensörleri (çok boyutlu diziler) inşa ederiz. Sık kullanılan array oluşturma yöntemleri:\n",
    "- `np.array`, `np.arange`, `np.linspace`\n",
    "- `np.zeros`, `np.ones`, `np.full`\n",
    "- `np.random.rand`, `np.random.randn`, `np.random.randint` (rastgele)"
   ]
  },
  {
   "cell_type": "code",
   "execution_count": 13,
   "id": "ddfbe0ae",
   "metadata": {},
   "outputs": [
    {
     "name": "stdout",
     "output_type": "stream",
     "text": [
      "a: [1 2 3]\n",
      "b: [1 2 3 4 5]\n",
      "c: [0.   0.25 0.5  0.75 1.  ]\n",
      "zeros (2x3):\n",
      " [[0. 0. 0.]\n",
      " [0. 0. 0.]]\n",
      "ones  (2x3):\n",
      " [[1. 1. 1.]\n",
      " [1. 1. 1.]]\n",
      "randint (3x3):\n",
      " [[9 4 6]\n",
      " [5 9 6]\n",
      " [8 4 9]]\n"
     ]
    }
   ],
   "source": [
    "\n",
    "a = np.array([1, 2, 3])                      # Python list -> NumPy array\n",
    "b = np.arange(1, 6)                           # 1..5 (tam sayılar)\n",
    "c = np.linspace(0, 1, 5)                      # [0.00, 0.25, 0.50, 0.75, 1.00]\n",
    "z = np.zeros((2, 3))                          # 2x3 sıfırlar\n",
    "o = np.ones((2, 3))                           # 2x3 birler\n",
    "r = np.random.randint(1, 10, size=(3, 3))     # 1..9 arası 3x3 rastgele\n",
    "\n",
    "print(\"a:\", a)\n",
    "print(\"b:\", b)\n",
    "print(\"c:\", c)\n",
    "print(\"zeros (2x3):\\n\", z)\n",
    "print(\"ones  (2x3):\\n\", o)\n",
    "print(\"randint (3x3):\\n\", r)\n"
   ]
  },
  {
   "cell_type": "markdown",
   "id": "1a6c879b",
   "metadata": {},
   "source": [
    "\n",
    "## 2) Şekil ve Boyut — `shape`, `reshape`, `ravel`, `flatten`, `transpose`\n",
    "\n",
    "**Ne işe yarar?** Aynı veriyi farklı boyutlarda düzenlemek, DL’de batch/kanal/uzamsal eksenleri ayarlamak.\n",
    "- `shape/ndim/size`: temel özellikler\n",
    "- `reshape`: boyut değiştirir (mümkünse kopya yapmadan)\n",
    "- `ravel`: çoğunlukla *view* (orijinale bağlı) — kopya oluşturmaz\n",
    "- `flatten`: *kopya* oluşturur\n",
    "- `T`/`transpose`: eksenleri çevirir\n",
    "- `np.newaxis`/`None` ve `np.expand_dims`: yeni eksen ekler"
   ]
  },
  {
   "cell_type": "code",
   "execution_count": 14,
   "id": "bef6ca02",
   "metadata": {},
   "outputs": [
    {
     "name": "stdout",
     "output_type": "stream",
     "text": [
      "x: [ 0  1  2  3  4  5  6  7  8  9 10 11]\n",
      "X (3x4):\n",
      " [[ 0  1  2  3]\n",
      " [ 4  5  6  7]\n",
      " [ 8  9 10 11]]\n",
      "X_T (4x3):\n",
      " [[ 0  4  8]\n",
      " [ 1  5  9]\n",
      " [ 2  6 10]\n",
      " [ 3  7 11]]\n",
      "x_view ilk 5: [0 1 2 3 4] | view mi? -> Evet\n",
      "x_copy ilk 5: [0 1 2 3 4] | kopya mı? -> Evet\n",
      "\n",
      "[Değişiklik] x_view[0] = 999 yaptık\n",
      "X (etkilendi mi?):\n",
      " [[999   1   2   3]\n",
      " [  4   5   6   7]\n",
      " [  8   9  10  11]]\n",
      "\n",
      "[Değişiklik] x_copy[1] = 777 (kopya), X etkilenmez\n",
      "x_copy: [  0 777   2   3   4]\n",
      "X:\n",
      " [[999   1   2   3]\n",
      " [  4   5   6   7]\n",
      " [  8   9  10  11]]\n"
     ]
    }
   ],
   "source": [
    "\n",
    "x = np.arange(12)           # 0..11\n",
    "X = x.reshape(3, 4)         # (3,4) şekline\n",
    "x_view = X.ravel()          # görünüm (view) -> çoğu durumda kopya yok\n",
    "x_copy = X.flatten()        # kopya\n",
    "X_T = X.T                   # transpose\n",
    "\n",
    "print(\"x:\", x)\n",
    "print(\"X (3x4):\\n\", X)\n",
    "print(\"X_T (4x3):\\n\", X_T)\n",
    "print(\"x_view ilk 5:\", x_view[:5], \"| view mi? ->\", \"Evet\" if x_view.base is not None else \"Hayır\")\n",
    "print(\"x_copy ilk 5:\", x_copy[:5], \"| kopya mı? ->\", \"Evet\" if x_copy.base is None else \"Hayır\")\n",
    "\n",
    "# View davranışı gözlem:\n",
    "x_view[0] = 999   # view'ı değiştirince X etkilenir\n",
    "print(\"\\n[Değişiklik] x_view[0] = 999 yaptık\")\n",
    "print(\"X (etkilendi mi?):\\n\", X)\n",
    "# Kopya etkilenmez\n",
    "x_copy[1] = 777\n",
    "print(\"\\n[Değişiklik] x_copy[1] = 777 (kopya), X etkilenmez\")\n",
    "print(\"x_copy:\", x_copy[:5])\n",
    "print(\"X:\\n\", X)\n"
   ]
  },
  {
   "cell_type": "markdown",
   "id": "24b11bbb",
   "metadata": {},
   "source": [
    "\n",
    "## 3) İndeksleme & Dilimleme & Maskeler\n",
    "\n",
    "**Ne işe yarar?** Veri altkümeleri seçme, koşullu filtreleme, mini-batch çıkarma.\n",
    "- Basit dilim: `A[1:4]`, adımlı: `A[::2]`\n",
    "- 2D: `A[i, j]`, `A[i, :]`, `A[:, j]`\n",
    "- Boolean mask: `A[A>0]`\n",
    "- Fancy index: `A[[0,2], :]`"
   ]
  },
  {
   "cell_type": "code",
   "execution_count": 15,
   "id": "022ee47c",
   "metadata": {},
   "outputs": [
    {
     "name": "stdout",
     "output_type": "stream",
     "text": [
      "A:\n",
      " [[1 2 3]\n",
      " [4 5 6]\n",
      " [7 8 9]]\n",
      "\n",
      "2. satır: [4 5 6]\n",
      "3. sütun: [3 6 9]\n",
      "\n",
      "Mask (A > 5):\n",
      " [[False False False]\n",
      " [False False  True]\n",
      " [ True  True  True]]\n",
      "Seçili değerler: [6 7 8 9]\n",
      "\n",
      "Fancy index (satır 0 ve 2):\n",
      " [[1 2 3]\n",
      " [7 8 9]]\n"
     ]
    }
   ],
   "source": [
    "\n",
    "A = np.arange(1, 10).reshape(3, 3)\n",
    "print(\"A:\\n\", A)\n",
    "\n",
    "print(\"\\n2. satır:\", A[1, :])\n",
    "print(\"3. sütun:\", A[:, 2])\n",
    "\n",
    "mask = A > 5\n",
    "print(\"\\nMask (A > 5):\\n\", mask)\n",
    "print(\"Seçili değerler:\", A[mask])\n",
    "\n",
    "fancy = A[[0, 2], :]  # 1. ve 3. satırlar\n",
    "print(\"\\nFancy index (satır 0 ve 2):\\n\", fancy)\n"
   ]
  },
  {
   "cell_type": "markdown",
   "id": "d184db32",
   "metadata": {},
   "source": [
    "\n",
    "## 4) Broadcasting — Boyutları Otomatik Eşleme\n",
    "\n",
    "**Ne işe yarar?** Manuel döngü yazmadan farklı boyutlu tensörleri birlikte işlemek.\n",
    "- `(N, 1)` + `(1, M)` → `(N, M)`\n",
    "- Bias ekleme, ölçekleme, normalizasyon vb.\n"
   ]
  },
  {
   "cell_type": "code",
   "execution_count": 16,
   "id": "58c3bb0e",
   "metadata": {},
   "outputs": [
    {
     "name": "stdout",
     "output_type": "stream",
     "text": [
      "u shape: (3, 1) \n",
      " [[1]\n",
      " [2]\n",
      " [3]]\n",
      "v shape: (1, 3) \n",
      " [[10 20 30]]\n",
      "\n",
      "Toplam (u+v):\n",
      " [[11 21 31]\n",
      " [12 22 32]\n",
      " [13 23 33]]\n",
      "\n",
      "Çarpım (u*v):\n",
      " [[10 20 30]\n",
      " [20 40 60]\n",
      " [30 60 90]]\n",
      "\n",
      "Ne değişti? -> Boyutlar otomatik yayıldı (broadcast). Çıktı şekli: (3, 3)\n"
     ]
    }
   ],
   "source": [
    "\n",
    "u = np.array([1, 2, 3])[:, None]     # (3,1)\n",
    "v = np.array([10, 20, 30])[None, :]  # (1,3)\n",
    "\n",
    "print(\"u shape:\", u.shape, \"\\n\", u)\n",
    "print(\"v shape:\", v.shape, \"\\n\", v)\n",
    "\n",
    "sum_uv = u + v    # (3,3)\n",
    "mul_uv = u * v    # (3,3)\n",
    "\n",
    "print(\"\\nToplam (u+v):\\n\", sum_uv)\n",
    "print(\"\\nÇarpım (u*v):\\n\", mul_uv)\n",
    "print(\"\\nNe değişti? -> Boyutlar otomatik yayıldı (broadcast). Çıktı şekli:\", sum_uv.shape)\n"
   ]
  },
  {
   "cell_type": "markdown",
   "id": "e53e1f00",
   "metadata": {},
   "source": [
    "\n",
    "## 5) Özet İstatistikler — `mean/median/std/var/min/max` + `percentile/quantile`\n",
    "\n",
    "**Ne işe yarar?** Dağılımı anlamak, normalizasyon kararları almak.\n"
   ]
  },
  {
   "cell_type": "code",
   "execution_count": 17,
   "id": "24bd1a4e",
   "metadata": {},
   "outputs": [
    {
     "name": "stdout",
     "output_type": "stream",
     "text": [
      "Veri: [ 12  15  20  18  16  22  25 100]\n",
      "Ortalama: 28.5\n",
      "Medyan: 19.0\n",
      "Standart sapma: 27.294688127912362\n",
      "Varyans: 745.0\n",
      "Maksimum: 100\n",
      "Minimum: 12\n",
      "\n",
      "%25 yüzdelik: 15.75\n",
      "%50 yüzdelik (medyan): 19.0\n",
      "%75 yüzdelik: 22.75\n",
      "0.25 quantile: 15.75\n",
      "0.75 quantile: 22.75\n"
     ]
    }
   ],
   "source": [
    "\n",
    "data = np.array([12, 15, 20, 18, 16, 22, 25, 100])  # uç değer (100) ekledik\n",
    "print(\"Veri:\", data)\n",
    "print(\"Ortalama:\", np.mean(data))            # Aritmetik ortalama\n",
    "print(\"Medyan:\", np.median(data))            # Ortanca\n",
    "print(\"Standart sapma:\", np.std(data))\n",
    "print(\"Varyans:\", np.var(data))\n",
    "print(\"Maksimum:\", np.max(data))\n",
    "print(\"Minimum:\", np.min(data))\n",
    "\n",
    "# Yüzdelikler: belirli bir yüzdelik altındaki değer eşiği\n",
    "print(\"\\n%25 yüzdelik:\", np.percentile(data, 25))\n",
    "print(\"%50 yüzdelik (medyan):\", np.percentile(data, 50))\n",
    "print(\"%75 yüzdelik:\", np.percentile(data, 75))\n",
    "\n",
    "# Quantile: 0..1 aralığında eşdeğer gösterim\n",
    "print(\"0.25 quantile:\", np.quantile(data, 0.25))\n",
    "print(\"0.75 quantile:\", np.quantile(data, 0.75))\n"
   ]
  },
  {
   "cell_type": "markdown",
   "id": "5d90b8b4",
   "metadata": {},
   "source": [
    "\n",
    "## 6) Lineer Cebir — `@/dot/matmul`, `det`, `inv`, `norm`\n",
    "\n",
    "**Ne işe yarar?** DL’de en kritik operasyonlar: matris/vektör çarpımı, normlar, bazı analizler.\n"
   ]
  },
  {
   "cell_type": "code",
   "execution_count": 18,
   "id": "422bd238",
   "metadata": {},
   "outputs": [
    {
     "name": "stdout",
     "output_type": "stream",
     "text": [
      "A:\n",
      " [[1 2]\n",
      " [3 4]]\n",
      "B:\n",
      " [[5 6]\n",
      " [7 8]]\n",
      "\n",
      "A @ B:\n",
      " [[19 22]\n",
      " [43 50]]\n",
      "\n",
      "Det(A): -2.0000000000000004\n",
      "Inv(A):\n",
      " [[-2.   1. ]\n",
      " [ 1.5 -0.5]]\n",
      "\n",
      "Vektör v: [3. 4.]  | L2 normu: 5.0\n"
     ]
    }
   ],
   "source": [
    "\n",
    "A = np.array([[1, 2],\n",
    "              [3, 4]])\n",
    "B = np.array([[5, 6],\n",
    "              [7, 8]])\n",
    "\n",
    "print(\"A:\\n\", A)\n",
    "print(\"B:\\n\", B)\n",
    "\n",
    "prod = A @ B               # matris çarpımı\n",
    "print(\"\\nA @ B:\\n\", prod)\n",
    "\n",
    "detA = np.linalg.det(A)\n",
    "invA = np.linalg.inv(A)\n",
    "print(\"\\nDet(A):\", detA)\n",
    "print(\"Inv(A):\\n\", invA)\n",
    "\n",
    "# Norm örneği (L2 normu)\n",
    "v = np.array([3.0, 4.0])\n",
    "print(\"\\nVektör v:\", v, \" | L2 normu:\", np.linalg.norm(v))\n"
   ]
  },
  {
   "cell_type": "markdown",
   "id": "48069c16",
   "metadata": {},
   "source": [
    "\n",
    "## 7) Birleştirme & Bölme — `stack/vstack/hstack`, `split/vsplit/hsplit`\n",
    "\n",
    "**Ne işe yarar?** Batch oluşturma, veri/etiket birleştirme veya ayırma.\n"
   ]
  },
  {
   "cell_type": "code",
   "execution_count": 19,
   "id": "a244feec",
   "metadata": {},
   "outputs": [
    {
     "name": "stdout",
     "output_type": "stream",
     "text": [
      "stacked (yeni eksen):\n",
      " [[1 2 3]\n",
      " [4 5 6]]\n",
      "\n",
      "vstack:\n",
      " [[1 2 3]\n",
      " [4 5 6]]\n",
      "\n",
      "hstack:\n",
      " [[ 1  2  3  4  5  6]\n",
      " [ 7  8  9 10 11 12]]\n",
      "\n",
      "arr: [0 1 2 3 4 5 6 7 8 9]\n",
      "5 parçaya böl: [array([0, 1]), array([2, 3]), array([4, 5]), array([6, 7]), array([8, 9])]\n",
      "\n",
      "M:\n",
      " [[ 0  1  2  3]\n",
      " [ 4  5  6  7]\n",
      " [ 8  9 10 11]\n",
      " [12 13 14 15]]\n",
      "\n",
      "Dikey bölümler:\n",
      " [[0 1 2 3]\n",
      " [4 5 6 7]] \n",
      "\n",
      " [[ 8  9 10 11]\n",
      " [12 13 14 15]]\n",
      "\n",
      "Yatay bölümler:\n",
      " [[ 0  1]\n",
      " [ 4  5]\n",
      " [ 8  9]\n",
      " [12 13]] \n",
      "\n",
      " [[ 2  3]\n",
      " [ 6  7]\n",
      " [10 11]\n",
      " [14 15]]\n"
     ]
    }
   ],
   "source": [
    "\n",
    "a = np.array([1, 2, 3])\n",
    "b = np.array([4, 5, 6])\n",
    "\n",
    "stacked = np.stack((a, b), axis=0)  # yeni eksen\n",
    "v = np.vstack((a, b))               # dikey birleştirme\n",
    "c = np.array([[1,2,3],[7,8,9]])\n",
    "d = np.array([[4,5,6],[10,11,12]])\n",
    "h = np.hstack((c, d))               # yatay birleştirme\n",
    "\n",
    "print(\"stacked (yeni eksen):\\n\", stacked)\n",
    "print(\"\\nvstack:\\n\", v)\n",
    "print(\"\\nhstack:\\n\", h)\n",
    "\n",
    "arr = np.arange(10)\n",
    "pieces = np.split(arr, 5)\n",
    "print(\"\\narr:\", arr)\n",
    "print(\"5 parçaya böl:\", pieces)\n",
    "\n",
    "M = np.arange(16).reshape(4,4)\n",
    "print(\"\\nM:\\n\", M)\n",
    "v1, v2 = np.vsplit(M, 2)\n",
    "h1, h2 = np.hsplit(M, 2)\n",
    "print(\"\\nDikey bölümler:\\n\", v1, \"\\n\\n\", v2)\n",
    "print(\"\\nYatay bölümler:\\n\", h1, \"\\n\\n\", h2)\n"
   ]
  },
  {
   "cell_type": "markdown",
   "id": "0d7ffede",
   "metadata": {},
   "source": [
    "\n",
    "## 8) İndeks Bulma — `where`, `argwhere`, `nonzero`\n",
    "\n",
    "**Ne işe yarar?** Koşulu sağlayan elemanları ve **konumlarını** bulmak.\n",
    "- `np.where(cond)` → indeks tuple’ı\n",
    "- `np.argwhere(cond)` → `[i, j]` koordinatları\n",
    "- `np.nonzero(A)` → sıfır olmayanların indeksleri\n"
   ]
  },
  {
   "cell_type": "code",
   "execution_count": 20,
   "id": "16eaf969",
   "metadata": {},
   "outputs": [
    {
     "name": "stdout",
     "output_type": "stream",
     "text": [
      "A:\n",
      " [[0 1 0]\n",
      " [2 0 3]\n",
      " [0 4 0]]\n",
      "\n",
      "np.where(A>0) çıktı tipleri: <class 'tuple'>  | uzunluk: 2\n",
      "Satır indeksleri: [0 1 1 2]\n",
      "Sütun indeksleri: [1 0 2 1]\n",
      "\n",
      "np.argwhere(A>0):\n",
      " [[0 1]\n",
      " [1 0]\n",
      " [1 2]\n",
      " [2 1]]\n",
      "\n",
      "np.nonzero(A): (array([0, 1, 1, 2], dtype=int64), array([1, 0, 2, 1], dtype=int64))\n",
      "nonzero koordinatları:\n",
      " [[0 1]\n",
      " [1 0]\n",
      " [1 2]\n",
      " [2 1]]\n"
     ]
    }
   ],
   "source": [
    "\n",
    "A = np.array([[0,1,0],\n",
    "              [2,0,3],\n",
    "              [0,4,0]])\n",
    "print(\"A:\\n\", A)\n",
    "\n",
    "w = np.where(A > 0)\n",
    "print(\"\\nnp.where(A>0) çıktı tipleri:\", type(w), \" | uzunluk:\", len(w))\n",
    "print(\"Satır indeksleri:\", w[0])\n",
    "print(\"Sütun indeksleri:\", w[1])\n",
    "\n",
    "arg = np.argwhere(A > 0)\n",
    "print(\"\\nnp.argwhere(A>0):\\n\", arg)\n",
    "\n",
    "nz = np.nonzero(A)\n",
    "print(\"\\nnp.nonzero(A):\", nz)\n",
    "print(\"nonzero koordinatları:\\n\", np.array(nz).T)\n"
   ]
  },
  {
   "cell_type": "markdown",
   "id": "e82e34e1",
   "metadata": {},
   "source": [
    "\n",
    "## 9) Dosya I/O — `savetxt/loadtxt`, `save/load`, `savez(_compressed)`\n",
    "\n",
    "**Ne işe yarar?** Ara sonuçları, tensörleri, küçük veri parçalarını diske kaydet/oku.\n"
   ]
  },
  {
   "cell_type": "code",
   "execution_count": 21,
   "id": "c0d3a1c7",
   "metadata": {},
   "outputs": [
    {
     "name": "stdout",
     "output_type": "stream",
     "text": [
      "TXT geri yükleme:\n",
      " [[ 1  2  3  4  5]\n",
      " [ 6  7  8  9 10]]\n",
      "\n",
      "NPY geri yükleme:\n",
      " [[ 1  2  3  4  5]\n",
      " [ 6  7  8  9 10]]\n",
      "\n",
      "NPZ içerikleri (array1): [1 2 3 4 5]\n",
      "NPZ (compressed) içerikleri (array2): [10 11 12 13 14]\n"
     ]
    }
   ],
   "source": [
    "\n",
    "from pathlib import Path\n",
    "Path(\"files\").mkdir(exist_ok=True)\n",
    "\n",
    "arr = np.arange(1, 11).reshape(2, 5)\n",
    "\n",
    "# TXT olarak kaydet/oku\n",
    "np.savetxt(\"files/veri.txt\", arr, fmt=\"%d\")\n",
    "txt_back = np.loadtxt(\"files/veri.txt\", dtype=int)\n",
    "\n",
    "# NPY (binary tek array) kaydet/oku\n",
    "np.save(\"files/veri.npy\", arr)\n",
    "npy_back = np.load(\"files/veri.npy\")\n",
    "\n",
    "# NPZ (çoklu array) kaydet/oku\n",
    "a = np.arange(1, 6)\n",
    "b = np.arange(10, 15)\n",
    "np.savez(\"files/veriler.npz\", array1=a, array2=b)\n",
    "np.savez_compressed(\"files/veriler_compressed.npz\", array1=a, array2=b)\n",
    "z_load = np.load(\"files/veriler.npz\")\n",
    "zc_load = np.load(\"files/veriler_compressed.npz\")\n",
    "\n",
    "print(\"TXT geri yükleme:\\n\", txt_back)\n",
    "print(\"\\nNPY geri yükleme:\\n\", npy_back)\n",
    "print(\"\\nNPZ içerikleri (array1):\", z_load[\"array1\"])\n",
    "print(\"NPZ (compressed) içerikleri (array2):\", zc_load[\"array2\"])\n"
   ]
  },
  {
   "cell_type": "markdown",
   "id": "a463da49",
   "metadata": {},
   "source": [
    "\n",
    "## 10) İleri İstatistik — `percentile/quantile`, `cov`, `corrcoef`\n",
    "\n",
    "**Ne işe yarar?**\n",
    "- **Percentile/Quantile:** belirli yüzdelik altındaki değer eşiği (dağılım/kuyruk analizi)\n",
    "- **Kovaryans (`np.cov`)**: iki değişken birlikte nasıl değişiyor\n",
    "- **Korelasyon (`np.corrcoef`)**: -1..1 arasında ilişki gücü (normalize)\n"
   ]
  },
  {
   "cell_type": "code",
   "execution_count": 22,
   "id": "16a3bd2d",
   "metadata": {},
   "outputs": [
    {
     "name": "stdout",
     "output_type": "stream",
     "text": [
      "x: [1 2 3 4 5]\n",
      "y: [ 2  4  6  8 10]\n",
      "\n",
      "%25 yüzdelik (x): 2.0\n",
      "0.75 quantile (x): 4.0\n",
      "\n",
      "Kovaryans matrisi:\n",
      " [[ 2.5  5. ]\n",
      " [ 5.  10. ]]\n",
      "\n",
      "Korelasyon matrisi:\n",
      " [[1. 1.]\n",
      " [1. 1.]]\n",
      "\n",
      "Ne değişti? -> Kovaryans mutlak ölçekten etkilenir; korelasyon -1..1 arası normalize değerdir (burada 1).\n"
     ]
    }
   ],
   "source": [
    "\n",
    "x = np.array([1, 2, 3, 4, 5])\n",
    "y = np.array([2, 4, 6, 8, 10])  # x ile tam doğrusal (y=2x)\n",
    "\n",
    "print(\"x:\", x)\n",
    "print(\"y:\", y)\n",
    "\n",
    "print(\"\\n%25 yüzdelik (x):\", np.percentile(x, 25))\n",
    "print(\"0.75 quantile (x):\", np.quantile(x, 0.75))\n",
    "\n",
    "cov = np.cov(x, y)\n",
    "corr = np.corrcoef(x, y)\n",
    "print(\"\\nKovaryans matrisi:\\n\", cov)\n",
    "print(\"\\nKorelasyon matrisi:\\n\", corr)\n",
    "print(\"\\nNe değişti? -> Kovaryans mutlak ölçekten etkilenir; korelasyon -1..1 arası normalize değerdir (burada 1).\")\n"
   ]
  },
  {
   "cell_type": "markdown",
   "id": "92cd450c",
   "metadata": {},
   "source": [
    "\n",
    "---\n",
    "\n"
   ]
  }
 ],
 "metadata": {
  "kernelspec": {
   "display_name": "Python 3",
   "language": "python",
   "name": "python3"
  },
  "language_info": {
   "codemirror_mode": {
    "name": "ipython",
    "version": 3
   },
   "file_extension": ".py",
   "mimetype": "text/x-python",
   "name": "python",
   "nbconvert_exporter": "python",
   "pygments_lexer": "ipython3",
   "version": "3.12.5"
  }
 },
 "nbformat": 4,
 "nbformat_minor": 5
}
