{
 "cells": [
  {
   "cell_type": "code",
   "execution_count": 17,
   "id": "33dae652",
   "metadata": {},
   "outputs": [],
   "source": [
    "import pandas as pd\n",
    "import numpy as np"
   ]
  },
  {
   "cell_type": "markdown",
   "id": "a3b1bcf8",
   "metadata": {},
   "source": [
    "# pandas Series\n",
    "Series, pandas'ta tek boyutlu veri yapısını temsil eder.  \n",
    "- Liste, NumPy array veya sabit değer ile oluşturulabilir.  \n",
    "- Index (etiketler) opsiyonel olarak verilebilir.  \n",
    "- Veri ve index birlikte Series objesini oluşturur.\n"
   ]
  },
  {
   "cell_type": "code",
   "execution_count": 18,
   "id": "902e61c1",
   "metadata": {},
   "outputs": [
    {
     "name": "stdout",
     "output_type": "stream",
     "text": [
      "0    10\n",
      "1    20\n",
      "2    30\n",
      "3    40\n",
      "4    50\n",
      "dtype: int64\n",
      "a     5\n",
      "b    10\n",
      "c    15\n",
      "dtype: int64\n"
     ]
    }
   ],
   "source": [
    "# Basit bir liste ile Series oluşturma\n",
    "s1 = pd.Series([10, 20, 30, 40, 50])\n",
    "print(s1)\n",
    "\n",
    "\n",
    "\n",
    "# Index belirterek Series oluşturma\n",
    "s2 = pd.Series([5, 10, 15], index=[\"a\", \"b\", \"c\"])\n",
    "print(s2)\n"
   ]
  },
  {
   "cell_type": "markdown",
   "id": "abe72afc",
   "metadata": {},
   "source": [
    "## 🎯 Mini Test\n",
    "- Kendin bir Series oluştur (ör: günlük sıcaklık değerleri)  \n",
    "- Indexleri özelleştir  \n",
    "- `head()`, `tail()`, `values` ve `index` özelliklerini kullanarak veriyi incele\n"
   ]
  },
  {
   "cell_type": "code",
   "execution_count": null,
   "id": "2f53686b",
   "metadata": {},
   "outputs": [],
   "source": []
  },
  {
   "cell_type": "markdown",
   "id": "bcbb7d21",
   "metadata": {},
   "source": [
    "---"
   ]
  },
  {
   "cell_type": "markdown",
   "id": "8b65bb66",
   "metadata": {},
   "source": [
    "# Series Temel İşlemler\n",
    "Pandas Series üzerinde sık kullanılan bazı temel işlemler:\n",
    "\n",
    "- `head(n)` → İlk `n` elementi gösterir (default 5)\n",
    "- `tail(n)` → Son `n` elementi gösterir (default 5)\n",
    "- `index` → Series’in index bilgilerini döndürür\n",
    "- `values` → Series’in değerlerini NumPy array olarak döndürür\n",
    "- `describe()` → Sayısal değerler için özet istatistikleri verir\n"
   ]
  },
  {
   "cell_type": "code",
   "execution_count": 19,
   "id": "871e2d40",
   "metadata": {},
   "outputs": [
    {
     "name": "stdout",
     "output_type": "stream",
     "text": [
      "Head:\n",
      " a    100\n",
      "b    200\n",
      "c    300\n",
      "dtype: int64\n",
      "\n",
      "Tail:\n",
      " d    400\n",
      "e    500\n",
      "dtype: int64\n",
      "\n",
      "Index:\n",
      " Index(['a', 'b', 'c', 'd', 'e'], dtype='object')\n",
      "\n",
      "Values:\n",
      " [100 200 300 400 500]\n",
      "\n",
      "Describe:\n",
      " count      5.000000\n",
      "mean     300.000000\n",
      "std      158.113883\n",
      "min      100.000000\n",
      "25%      200.000000\n",
      "50%      300.000000\n",
      "75%      400.000000\n",
      "max      500.000000\n",
      "dtype: float64\n"
     ]
    }
   ],
   "source": [
    "# Örnek Series\n",
    "s = pd.Series([100, 200, 300, 400, 500], index=[\"a\", \"b\", \"c\", \"d\", \"e\"])\n",
    "\n",
    "# İlk ve son elemanlar\n",
    "print(\"Head:\\n\", s.head(3))\n",
    "print(\"\\nTail:\\n\", s.tail(2))\n",
    "\n",
    "# Index ve değerler\n",
    "print(\"\\nIndex:\\n\", s.index)\n",
    "print(\"\\nValues:\\n\", s.values)\n",
    "\n",
    "# Temel istatistikler\n",
    "print(\"\\nDescribe:\\n\", s.describe())\n"
   ]
  },
  {
   "cell_type": "markdown",
   "id": "3cbb7111",
   "metadata": {},
   "source": [
    "---"
   ]
  },
  {
   "cell_type": "markdown",
   "id": "6c999fe0",
   "metadata": {},
   "source": [
    "# Series: Filtreleme ve Koşullu Seçim\n",
    "Bir `Series` üzerinde koşullar tanımlayarak belirli değerleri seçebiliriz.  \n",
    "Bu, tıpkı NumPy array filtrelemesine benzer şekilde çalışır.\n",
    "- Karşılaştırma operatörleri (`>`, `<`, `==`, `!=`) kullanılabilir.\n",
    "- Sonuç olarak **boolean** değerler döner, bu değerlerle filtreleme yapılır.\n"
   ]
  },
  {
   "cell_type": "markdown",
   "id": "d8c9eeb7",
   "metadata": {},
   "source": []
  },
  {
   "cell_type": "code",
   "execution_count": 20,
   "id": "2332fb60",
   "metadata": {},
   "outputs": [
    {
     "name": "stdout",
     "output_type": "stream",
     "text": [
      "15'ten büyük olan değerler:\n",
      "2    20\n",
      "dtype: int64\n",
      "\n",
      "5 ile 15 arasındaki değerler:\n",
      "0    12\n",
      "1     5\n",
      "3     7\n",
      "4    15\n",
      "dtype: int64\n",
      "\n",
      "5'e eşit olan değer:\n",
      "1    5\n",
      "dtype: int64\n"
     ]
    }
   ],
   "source": [
    "import pandas as pd\n",
    "\n",
    "# Örnek Series\n",
    "s = pd.Series([12, 5, 20, 7, 15, 3])\n",
    "\n",
    "# Koşullu seçim\n",
    "print(\"15'ten büyük olan değerler:\")\n",
    "print(s[s > 15])\n",
    "\n",
    "print(\"\\n5 ile 15 arasındaki değerler:\")\n",
    "print(s[(s >= 5) & (s <= 15)])\n",
    "\n",
    "# Eşitlik kontrolü\n",
    "print(\"\\n5'e eşit olan değer:\")\n",
    "print(s[s == 5])\n"
   ]
  },
  {
   "cell_type": "markdown",
   "id": "a307dfa4",
   "metadata": {},
   "source": [
    "Pandas Series, NumPy benzeri **vektörleştirilmiş işlemleri** destekler.\n",
    "- Toplama, çıkarma, çarpma, bölme doğrudan yapılabilir.\n",
    "- İşlemler **index bazlı** gerçekleşir.\n"
   ]
  },
  {
   "cell_type": "markdown",
   "id": "d69fbd76",
   "metadata": {},
   "source": [
    "---\n"
   ]
  },
  {
   "cell_type": "markdown",
   "id": "225dfede",
   "metadata": {},
   "source": [
    "# DataFrame Temelleri\n",
    "`DataFrame`, Pandas'ın en temel veri yapısıdır.  \n",
    "Excel tablosu gibi **satır ve sütunlardan oluşur**.\n",
    "\n",
    "Bir DataFrame:\n",
    "- Satır → Gözlem (örnek)\n",
    "- Sütun → Özellik (değişken)\n"
   ]
  },
  {
   "cell_type": "code",
   "execution_count": 21,
   "id": "2b81cc92",
   "metadata": {},
   "outputs": [
    {
     "name": "stdout",
     "output_type": "stream",
     "text": [
      "    isim  yaş  not\n",
      "0    Ali   17   85\n",
      "1   Veli   18   92\n",
      "2   Ayşe   20   78\n",
      "3  Ahmet   19   88\n",
      "\n",
      "Boyut: (4, 3)\n",
      "Sütunlar: ['isim', 'yaş', 'not']\n",
      "Veri tipleri:\n",
      " isim    object\n",
      "yaş      int64\n",
      "not      int64\n",
      "dtype: object\n"
     ]
    }
   ],
   "source": [
    "import pandas as pd\n",
    "\n",
    "# Sözlükten DataFrame oluşturma\n",
    "veri = {\n",
    "    \"isim\": [\"Ali\", \"Veli\", \"Ayşe\", \"Ahmet\"],\n",
    "    \"yaş\": [17, 18, 20, 19],\n",
    "    \"not\": [85, 92, 78, 88]\n",
    "}\n",
    "\n",
    "df = pd.DataFrame(veri)\n",
    "print(df)\n",
    "\n",
    "# Temel bilgiler\n",
    "print(\"\\nBoyut:\", df.shape)\n",
    "print(\"Sütunlar:\", df.columns.tolist())\n",
    "print(\"Veri tipleri:\\n\", df.dtypes)\n"
   ]
  },
  {
   "cell_type": "markdown",
   "id": "56736de2",
   "metadata": {},
   "source": [
    "###  Not:\n",
    "- `shape` → (satır, sütun) sayısını döndürür.  \n",
    "- `columns` → sütun isimlerini verir.  \n",
    "- `dtypes` → sütun veri tiplerini gösterir.\n",
    "---\n",
    "\n"
   ]
  },
  {
   "cell_type": "markdown",
   "id": "3f87a328",
   "metadata": {},
   "source": [
    "# Sütun ve Satır Erişimi\n",
    "DataFrame'de veriye erişmenin birden fazla yolu vardır:\n",
    "- `df[\"kolon\"]` → Tek sütun seçimi\n",
    "- `df[[\"kolon1\", \"kolon2\"]]` → Birden fazla sütun seçimi\n",
    "- `df.loc[]` → Etiket bazlı erişim\n",
    "- `df.iloc[]` → İndeks bazlı erişim\n"
   ]
  },
  {
   "cell_type": "code",
   "execution_count": 22,
   "id": "1fd42673",
   "metadata": {},
   "outputs": [
    {
     "name": "stdout",
     "output_type": "stream",
     "text": [
      "0      Ali\n",
      "1     Veli\n",
      "2     Ayşe\n",
      "3    Ahmet\n",
      "Name: isim, dtype: object\n",
      "    isim  not\n",
      "0    Ali   85\n",
      "1   Veli   92\n",
      "2   Ayşe   78\n",
      "3  Ahmet   88\n",
      "\n",
      "İlk satır (loc):\n",
      "isim    Ali\n",
      "yaş      17\n",
      "not      85\n",
      "Name: 0, dtype: object\n",
      "\n",
      "İlk satır (iloc):\n",
      "isim    Ali\n",
      "yaş      17\n",
      "not      85\n",
      "Name: 0, dtype: object\n",
      "\n",
      "İsim ve not sütunu (2. satır):\n",
      "isim    Veli\n",
      "not       92\n",
      "Name: 1, dtype: object\n"
     ]
    }
   ],
   "source": [
    "# Sütun seçimi\n",
    "print(df[\"isim\"])\n",
    "print(df[[\"isim\", \"not\"]])\n",
    "\n",
    "# Satır seçimi\n",
    "print(\"\\nİlk satır (loc):\")\n",
    "print(df.loc[0])\n",
    "\n",
    "print(\"\\nİlk satır (iloc):\")\n",
    "print(df.iloc[0])\n",
    "\n",
    "# Belirli hücreye erişim\n",
    "print(\"\\nİsim ve not sütunu (2. satır):\")\n",
    "print(df.loc[1, [\"isim\", \"not\"]])\n"
   ]
  },
  {
   "cell_type": "markdown",
   "id": "f1d30ff9",
   "metadata": {},
   "source": [
    "### Not:\n",
    "- `loc` etikete göre, `iloc` ise **pozisyon numarasına göre** erişir.  \n",
    "- `df.loc[0:2]` → 0,1,2 dahil  \n",
    "- `df.iloc[0:2]` → 0 ve 1 dahil, 2 hariç  \n",
    "---\n",
    "\n",
    "## 🎯 Mini Test\n",
    "- Yeni bir DataFrame oluştur: `ürün`, `fiyat`, `stok`\n",
    "- Sadece `fiyat` sütununu yazdır  \n",
    "- `iloc` ile ilk iki satırı seç  \n",
    "- `loc` ile `stok` sütununu ve 1. satırı getir\n"
   ]
  },
  {
   "cell_type": "code",
   "execution_count": null,
   "id": "62239d51",
   "metadata": {},
   "outputs": [],
   "source": []
  },
  {
   "cell_type": "markdown",
   "id": "98a06611",
   "metadata": {},
   "source": [
    "# DataFrame: Filtreleme ve Koşullu Seçimler\n",
    "DataFrame üzerinde koşullu filtreleme yaparak belirli satırları seçebiliriz.\n",
    "\n",
    "Kullanılan yapılar:\n",
    "- Karşılaştırma operatörleri: `>`, `<`, `==`, `!=`, `>=`, `<=`\n",
    "- Mantıksal bağlaçlar: `&` (ve), `|` (veya), `~` (değil)\n",
    "- `isin()` → Belirli değerleri içeren satırları seçer  \n",
    "- `between(a, b)` → İki değer arasındaki satırları seçer  \n",
    "- `query()` → SQL benzeri filtreleme sağlar\n"
   ]
  },
  {
   "cell_type": "code",
   "execution_count": 23,
   "id": "9da872d9",
   "metadata": {},
   "outputs": [
    {
     "name": "stdout",
     "output_type": "stream",
     "text": [
      "Yaşı 18'den büyük olanlar:\n",
      "     isim  yaş  not\n",
      "2    Ayşe   21   78\n",
      "3   Ahmet   20   88\n",
      "4  Mehmet   19   95\n",
      "\n",
      "Yaşı 18'den büyük ve notu 90'dan küçük olanlar:\n",
      "    isim  yaş  not\n",
      "2   Ayşe   21   78\n",
      "3  Ahmet   20   88\n",
      "\n",
      "İsmi Ali veya Ayşe olanlar:\n",
      "   isim  yaş  not\n",
      "0   Ali   17   85\n",
      "2  Ayşe   21   78\n",
      "\n",
      "Notu 80 ile 90 arasında olanlar:\n",
      "    isim  yaş  not\n",
      "0    Ali   17   85\n",
      "3  Ahmet   20   88\n",
      "\n",
      "Query ile 18 yaşından büyük öğrenciler:\n",
      "     isim  yaş  not\n",
      "2    Ayşe   21   78\n",
      "3   Ahmet   20   88\n",
      "4  Mehmet   19   95\n"
     ]
    }
   ],
   "source": [
    "import pandas as pd\n",
    "\n",
    "# Örnek DataFrame\n",
    "veri = {\n",
    "    \"isim\": [\"Ali\", \"Veli\", \"Ayşe\", \"Ahmet\", \"Mehmet\"],\n",
    "    \"yaş\": [17, 18, 21, 20, 19],\n",
    "    \"not\": [85, 92, 78, 88, 95]\n",
    "}\n",
    "\n",
    "df = pd.DataFrame(veri)\n",
    "\n",
    "# Basit koşullu filtreleme\n",
    "print(\"Yaşı 18'den büyük olanlar:\")\n",
    "print(df[df[\"yaş\"] > 18])\n",
    "\n",
    "# Birden fazla koşul\n",
    "print(\"\\nYaşı 18'den büyük ve notu 90'dan küçük olanlar:\")\n",
    "print(df[(df[\"yaş\"] > 18) & (df[\"not\"] < 90)])\n",
    "\n",
    "# isin() kullanımı\n",
    "print(\"\\nİsmi Ali veya Ayşe olanlar:\")\n",
    "print(df[df[\"isim\"].isin([\"Ali\", \"Ayşe\"])])\n",
    "\n",
    "# between() kullanımı\n",
    "print(\"\\nNotu 80 ile 90 arasında olanlar:\")\n",
    "print(df[df[\"not\"].between(80, 90)])\n",
    "\n",
    "# query() kullanımı\n",
    "print(\"\\nQuery ile 18 yaşından büyük öğrenciler:\")\n",
    "print(df.query(\"yaş > 18\"))\n"
   ]
  },
  {
   "cell_type": "markdown",
   "id": "b32ee7a1",
   "metadata": {},
   "source": [
    "### Notlar:\n",
    "- `&`, `|`, `~` operatörleri parantezle kullanılmalıdır.\n",
    "- `isin()` → bir liste içindeki elemanlara göre filtreler.\n",
    "- `between(a, b)` → `a` ve `b` dahil aralığı seçer.\n",
    "- `query()` → string tabanlı sorgular için kullanışlıdır (SQL benzeri).\n",
    "\n",
    "---\n",
    "\n",
    "## 🎯 Mini Test\n",
    "- `df`’ten notu 85’ten yüksek öğrencileri filtrele  \n",
    "- `isin()` kullanarak sadece `\"Ali\"` ve `\"Mehmet\"` olan satırları seç  \n",
    "- `between()` ile 18–20 yaş arası öğrencileri getir  \n",
    "- Aynı filtreyi `query()` ile tekrar et  \n"
   ]
  },
  {
   "cell_type": "markdown",
   "id": "99793b84",
   "metadata": {},
   "source": [
    "---"
   ]
  },
  {
   "cell_type": "markdown",
   "id": "4fba1167",
   "metadata": {},
   "source": [
    "# DataFrame: Aritmetik İşlemler & Yeni Sütun Ekleme\n",
    "DataFrame üzerinde sütun bazlı işlemler yapılabilir.  \n",
    "Bu işlemlerle veri türetebilir, yeni sütunlar ekleyebilir veya mevcut sütunları dönüştürebilirsin.\n",
    "\n",
    "Yöntemler:\n",
    "- **Doğrudan atama:** `df[\"yeni\"] = ...`\n",
    "- **assign():** Yeni sütunlar ekler, gerekirse zincirleme (chained) kullanım yapılabilir.\n",
    "- **apply():** Fonksiyon veya `lambda` ile her satır/sütuna işlem uygular.\n",
    "- **vectorized operations:** Pandas, NumPy tabanlı olduğu için toplama/çarpma gibi işlemler otomatik vektörleştirilir.\n"
   ]
  },
  {
   "cell_type": "code",
   "execution_count": 24,
   "id": "3a991c37",
   "metadata": {},
   "outputs": [
    {
     "name": "stdout",
     "output_type": "stream",
     "text": [
      "Yeni sütun eklendi:\n",
      "     isim  yaş  not  yaş_kare\n",
      "0     Ali   17   85       289\n",
      "1    Veli   18   92       324\n",
      "2    Ayşe   21   78       441\n",
      "3   Ahmet   20   88       400\n",
      "4  Mehmet   19   95       361 \n",
      "\n",
      "assign() ile eklenmiş sütunlar:\n",
      "     isim  yaş  not  yaş_kare  not_yüzde kategori\n",
      "0     Ali   17   85       289       0.85    Düşük\n",
      "1    Veli   18   92       324       0.92     Orta\n",
      "2    Ayşe   21   78       441       0.78   Yüksek\n",
      "3   Ahmet   20   88       400       0.88     Orta\n",
      "4  Mehmet   19   95       361       0.95   Yüksek \n",
      "\n",
      "apply() ile 'durum' sütunu:\n",
      "     isim  yaş  not  yaş_kare  not_yüzde kategori  durum\n",
      "0     Ali   17   85       289       0.85    Düşük  Geçti\n",
      "1    Veli   18   92       324       0.92     Orta  Geçti\n",
      "2    Ayşe   21   78       441       0.78   Yüksek  Kaldı\n",
      "3   Ahmet   20   88       400       0.88     Orta  Geçti\n",
      "4  Mehmet   19   95       361       0.95   Yüksek  Geçti \n",
      "\n",
      "Aritmetik işlemlerden sonra DataFrame:\n",
      "     isim  yaş  not  yaş_kare  not_yüzde kategori  durum  not_artı_5  \\\n",
      "0     Ali   17   85       289       0.85    Düşük  Geçti          90   \n",
      "1    Veli   18   92       324       0.92     Orta  Geçti          97   \n",
      "2    Ayşe   21   78       441       0.78   Yüksek  Kaldı          83   \n",
      "3   Ahmet   20   88       400       0.88     Orta  Geçti          93   \n",
      "4  Mehmet   19   95       361       0.95   Yüksek  Geçti         100   \n",
      "\n",
      "   yaş_farkı  \n",
      "0       -2.0  \n",
      "1       -1.0  \n",
      "2        2.0  \n",
      "3        1.0  \n",
      "4        0.0  \n"
     ]
    }
   ],
   "source": [
    "import pandas as pd\n",
    "\n",
    "veri = {\n",
    "    \"isim\": [\"Ali\", \"Veli\", \"Ayşe\", \"Ahmet\", \"Mehmet\"],\n",
    "    \"yaş\": [17, 18, 21, 20, 19],\n",
    "    \"not\": [85, 92, 78, 88, 95]\n",
    "}\n",
    "\n",
    "df = pd.DataFrame(veri)\n",
    "\n",
    "# Doğrudan sütun ekleme\n",
    "df[\"yaş_kare\"] = df[\"yaş\"] ** 2\n",
    "print(\"Yeni sütun eklendi:\")\n",
    "print(df, \"\\n\")\n",
    "\n",
    "# Birden fazla sütun eklemek için assign()\n",
    "df = df.assign(not_yüzde = df[\"not\"] / 100,\n",
    "               kategori = [\"Düşük\", \"Orta\", \"Yüksek\", \"Orta\", \"Yüksek\"])\n",
    "print(\"assign() ile eklenmiş sütunlar:\")\n",
    "print(df, \"\\n\")\n",
    "\n",
    "# apply() kullanımı - her satıra özel işlem\n",
    "df[\"durum\"] = df.apply(lambda x: \"Geçti\" if x[\"not\"] >= 85 else \"Kaldı\", axis=1)\n",
    "print(\"apply() ile 'durum' sütunu:\")\n",
    "print(df, \"\\n\")\n",
    "\n",
    "# Aritmetik işlemler\n",
    "df[\"not_artı_5\"] = df[\"not\"] + 5\n",
    "df[\"yaş_farkı\"] = df[\"yaş\"] - df[\"yaş\"].mean()\n",
    "\n",
    "print(\"Aritmetik işlemlerden sonra DataFrame:\")\n",
    "print(df)\n"
   ]
  },
  {
   "cell_type": "markdown",
   "id": "109c9f0b",
   "metadata": {},
   "source": [
    "### Notlar:\n",
    "- `df[\"yeni_sütun\"] = ...` → en temel ekleme yöntemidir.\n",
    "- `assign()` → zincirleme işlemlerde (ör. `df.assign(...).sort_values(...)`) daha güvenlidir.\n",
    "- `apply()` → satır (`axis=1`) veya sütun (`axis=0`) bazında fonksiyon çalıştırır.\n",
    "- NumPy destekli işlemler doğrudan tüm sütuna uygulanabilir (ör. `df[\"yaş\"] ** 2`).\n",
    "\n",
    "\n",
    "\n",
    "## 🎯 Mini Test\n",
    "1. `df`'e yeni bir sütun ekle: `yaş_plus_10 = yaş + 10`\n",
    "2. `apply()` kullanarak `not >= 90` olanlara `\"A\"`, diğerlerine `\"B\"` etiketi ekle.\n",
    "3. `assign()` ile `\"yaş_grubu\"` sütunu oluştur:  \n",
    "   - `yaş < 18` → `\"Genç\"`  \n",
    "   - `yaş >= 18` → `\"Yetişkin\"`\n"
   ]
  },
  {
   "cell_type": "code",
   "execution_count": null,
   "id": "8ac72501",
   "metadata": {},
   "outputs": [],
   "source": []
  },
  {
   "cell_type": "markdown",
   "id": "4fd15833",
   "metadata": {},
   "source": [
    "---"
   ]
  },
  {
   "cell_type": "markdown",
   "id": "2b9dcdbe",
   "metadata": {},
   "source": [
    "# Eksik Veriler (NaN) ile Çalışmak\n",
    "\n",
    "Gerçek veri kümelerinde eksik değerler (NaN) çok sık görülür.  \n",
    "Pandas bu durumlar için güçlü fonksiyonlar sunar.\n",
    "\n",
    "**Temel Fonksiyonlar:**\n",
    "- `isnull()` → Eksik değerleri `True/False` olarak gösterir.  \n",
    "- `notnull()` → Tamamlayıcı versiyonu (`True` → veri var).  \n",
    "- `fillna()` → Eksik değerleri belirli bir değerle doldurur.  \n",
    "- `dropna()` → Eksik değer içeren satır/sütunları siler.  \n",
    "- `interpolate()` → Eksik değerleri doğrusal veya belirli yöntemlerle tahmin eder.\n",
    "Eksik Veriler (NaN) ile Çalışmak\n",
    "\n",
    "Gerçek veri kümelerinde eksik değerler (NaN) çok sık görülür.  \n",
    "Pandas bu durumlar için güçlü fonksiyonlar sunar.\n",
    "\n",
    "**Temel Fonksiyonlar:**\n",
    "- `isnull()` → Eksik değerleri `True/False` olarak gösterir.  \n",
    "- `notnull()` → Tamamlayıcı versiyonu (`True` → veri var).  \n",
    "- `fillna()` → Eksik değerleri belirli bir değerle doldurur.  \n",
    "- `dropna()` → Eksik değer içeren satır/sütunları siler.  \n",
    "- `interpolate()` → Eksik değerleri doğrusal veya belirli yöntemlerle tahmin eder.\n"
   ]
  },
  {
   "cell_type": "code",
   "execution_count": 25,
   "id": "0edfe638",
   "metadata": {},
   "outputs": [
    {
     "name": "stdout",
     "output_type": "stream",
     "text": [
      "Orijinal DataFrame:\n",
      "      isim   yaş   not\n",
      "0     Ali  17.0  85.0\n",
      "1    Veli   NaN  92.0\n",
      "2    Ayşe  21.0   NaN\n",
      "3   Ahmet  20.0  88.0\n",
      "4  Mehmet   NaN  95.0 \n",
      "\n",
      "Eksik değer durumu (True = Eksik):\n",
      "     isim    yaş    not\n",
      "0  False  False  False\n",
      "1  False   True  False\n",
      "2  False  False   True\n",
      "3  False  False  False\n",
      "4  False   True  False \n",
      "\n",
      "Her sütundaki eksik değer sayısı:\n",
      " isim    0\n",
      "yaş     2\n",
      "not     1\n",
      "dtype: int64 \n",
      "\n",
      "Eksikler dolduruldu (ortalama/median ile):\n",
      "      isim        yaş   not\n",
      "0     Ali  17.000000  85.0\n",
      "1    Veli  19.333333  92.0\n",
      "2    Ayşe  21.000000  90.0\n",
      "3   Ahmet  20.000000  88.0\n",
      "4  Mehmet  19.333333  95.0 \n",
      "\n",
      "Eksik değer içeren satırlar atıldı:\n",
      "     isim   yaş   not\n",
      "0    Ali  17.0  85.0\n",
      "3  Ahmet  20.0  88.0 \n",
      "\n",
      "interpolate() ile doldurulmuş DataFrame:\n",
      "      isim   yaş   not\n",
      "0     Ali  17.0  85.0\n",
      "1    Veli  19.0  92.0\n",
      "2    Ayşe  21.0  90.0\n",
      "3   Ahmet  20.0  88.0\n",
      "4  Mehmet  20.0  95.0\n"
     ]
    },
    {
     "name": "stderr",
     "output_type": "stream",
     "text": [
      "C:\\Users\\56768\\AppData\\Local\\Temp\\ipykernel_22164\\3232495495.py:31: FutureWarning: DataFrame.interpolate with object dtype is deprecated and will raise in a future version. Call obj.infer_objects(copy=False) before interpolating instead.\n",
      "  df_interp = df.interpolate()\n"
     ]
    }
   ],
   "source": [
    "import pandas as pd\n",
    "import numpy as np\n",
    "\n",
    "veri = {\n",
    "    \"isim\": [\"Ali\", \"Veli\", \"Ayşe\", \"Ahmet\", \"Mehmet\"],\n",
    "    \"yaş\": [17, np.nan, 21, 20, np.nan],\n",
    "    \"not\": [85, 92, np.nan, 88, 95]\n",
    "}\n",
    "\n",
    "df = pd.DataFrame(veri)\n",
    "print(\"Orijinal DataFrame:\\n\", df, \"\\n\")\n",
    "\n",
    "# Eksik değer kontrolü\n",
    "print(\"Eksik değer durumu (True = Eksik):\\n\", df.isnull(), \"\\n\")\n",
    "\n",
    "# Kaç tane eksik değer var?\n",
    "print(\"Her sütundaki eksik değer sayısı:\\n\", df.isnull().sum(), \"\\n\")\n",
    "\n",
    "# Eksik değerleri doldurmak\n",
    "df_filled = df.fillna({\n",
    "    \"yaş\": df[\"yaş\"].mean(),\n",
    "    \"not\": df[\"not\"].median()\n",
    "})\n",
    "print(\"Eksikler dolduruldu (ortalama/median ile):\\n\", df_filled, \"\\n\")\n",
    "\n",
    "# Eksik değer içeren satırları silmek\n",
    "df_dropped = df.dropna()\n",
    "print(\"Eksik değer içeren satırlar atıldı:\\n\", df_dropped, \"\\n\")\n",
    "\n",
    "# interpolate(): doğrusal tahmin yöntemiyle doldurma\n",
    "df_interp = df.interpolate()\n",
    "print(\"interpolate() ile doldurulmuş DataFrame:\\n\", df_interp)\n"
   ]
  },
  {
   "cell_type": "markdown",
   "id": "11294cf5",
   "metadata": {},
   "source": [
    "### Notlar:\n",
    "- `isnull()` ve `notnull()` fonksiyonları, mantıksal maskeler oluşturmak için idealdir.\n",
    "- `fillna()` → Eksikleri ortalama, median veya sabit bir değerle doldurmak için kullanılır.\n",
    "- `dropna()` → Satır veya sütun bazında eksikleri tamamen kaldırır (`axis` parametresiyle kontrol edilir).\n",
    "- `interpolate()` → Eksik değerleri doğrusal tahmin veya zamansal verilerde ileriye dönük tahminlerle doldurur.\n",
    "\n",
    "\n",
    "\n",
    "## 🎯 Mini Test\n",
    "1. `df`’deki `yaş` sütunundaki NaN değerleri ortalama ile doldur.  \n",
    "2. `not` sütunundaki NaN değerleri 0 yap.  \n",
    "3. Eksik değer içeren **satırları sil** ve sonucu yazdır.  \n",
    "4. `interpolate()` kullanarak `yaş` sütunundaki eksikleri tahmin et.\n"
   ]
  },
  {
   "cell_type": "code",
   "execution_count": null,
   "id": "605637d5",
   "metadata": {},
   "outputs": [],
   "source": []
  },
  {
   "cell_type": "markdown",
   "id": "f8a0fd6a",
   "metadata": {},
   "source": [
    "---"
   ]
  },
  {
   "cell_type": "markdown",
   "id": "0392249c",
   "metadata": {},
   "source": [
    "# Veri Sıralama, Filtreleme ve Gruplama\n",
    "\n",
    "Bu bölümde veriyi farklı açılardan analiz etmek için kullanacağımız üç temel yapı var:\n",
    "\n",
    "- **Sıralama (`sort_values`)** → Sütun değerlerine göre artan veya azalan sıralama.  \n",
    "- **Filtreleme (`query`)** → SQL benzeri sorgularla koşullu seçim yapma.  \n",
    "- **Gruplama (`groupby`)** → Verileri belirli bir kategoriye göre özetleme (ortalama, toplam vb.).\n"
   ]
  },
  {
   "cell_type": "code",
   "execution_count": 26,
   "id": "1ccbe216",
   "metadata": {},
   "outputs": [
    {
     "name": "stdout",
     "output_type": "stream",
     "text": [
      "Orijinal DataFrame:\n",
      "   departman    isim   maaş  deneyim\n",
      "0        IT     Ali  12000        3\n",
      "1        IT    Veli  15000        5\n",
      "2        HR    Ayşe  11000        2\n",
      "3        HR   Ahmet  13000        4\n",
      "4     Satış  Mehmet  20000        6\n",
      "5     Satış     Cem  18000        5\n",
      "6     Satış     Can  21000        7 \n",
      "\n",
      "Maaşa göre artan sıralama:\n",
      "   departman    isim   maaş  deneyim\n",
      "2        HR    Ayşe  11000        2\n",
      "0        IT     Ali  12000        3\n",
      "3        HR   Ahmet  13000        4\n",
      "1        IT    Veli  15000        5\n",
      "5     Satış     Cem  18000        5\n",
      "4     Satış  Mehmet  20000        6\n",
      "6     Satış     Can  21000        7 \n",
      "\n",
      "Deneyime göre azalan sıralama:\n",
      "   departman    isim   maaş  deneyim\n",
      "6     Satış     Can  21000        7\n",
      "4     Satış  Mehmet  20000        6\n",
      "1        IT    Veli  15000        5\n",
      "5     Satış     Cem  18000        5\n",
      "3        HR   Ahmet  13000        4\n",
      "0        IT     Ali  12000        3\n",
      "2        HR    Ayşe  11000        2 \n",
      "\n",
      "Maaşı 15000’den yüksek olan çalışanlar:\n",
      "   departman    isim   maaş  deneyim\n",
      "4     Satış  Mehmet  20000        6\n",
      "5     Satış     Cem  18000        5\n",
      "6     Satış     Can  21000        7 \n",
      "\n",
      "IT departmanında olanlar:\n",
      "   departman  isim   maaş  deneyim\n",
      "0        IT   Ali  12000        3\n",
      "1        IT  Veli  15000        5 \n",
      "\n",
      "Departman bazlı maaş ve deneyim özeti:\n",
      "                    maaş               deneyim\n",
      "                   mean    max    min    mean\n",
      "departman                                    \n",
      "HR         12000.000000  13000  11000     3.0\n",
      "IT         13500.000000  15000  12000     4.0\n",
      "Satış      19666.666667  21000  18000     6.0 \n",
      "\n",
      "reset_index() ile düzenlenmiş tablo:\n",
      "   departman          maaş               deneyim\n",
      "                     mean    max    min    mean\n",
      "0        HR  12000.000000  13000  11000     3.0\n",
      "1        IT  13500.000000  15000  12000     4.0\n",
      "2     Satış  19666.666667  21000  18000     6.0\n"
     ]
    }
   ],
   "source": [
    "import pandas as pd\n",
    "\n",
    "veri = {\n",
    "    \"departman\": [\"IT\", \"IT\", \"HR\", \"HR\", \"Satış\", \"Satış\", \"Satış\"],\n",
    "    \"isim\": [\"Ali\", \"Veli\", \"Ayşe\", \"Ahmet\", \"Mehmet\", \"Cem\", \"Can\"],\n",
    "    \"maaş\": [12000, 15000, 11000, 13000, 20000, 18000, 21000],\n",
    "    \"deneyim\": [3, 5, 2, 4, 6, 5, 7]\n",
    "}\n",
    "\n",
    "df = pd.DataFrame(veri)\n",
    "print(\"Orijinal DataFrame:\\n\", df, \"\\n\")\n",
    "\n",
    "# Veri sıralama\n",
    "print(\"Maaşa göre artan sıralama:\\n\", df.sort_values(\"maaş\"), \"\\n\")\n",
    "print(\"Deneyime göre azalan sıralama:\\n\", df.sort_values(\"deneyim\", ascending=False), \"\\n\")\n",
    "\n",
    "# query() ile koşullu filtreleme\n",
    "print(\"Maaşı 15000’den yüksek olan çalışanlar:\\n\", df.query(\"maaş > 15000\"), \"\\n\")\n",
    "print(\"IT departmanında olanlar:\\n\", df.query(\"departman == 'IT'\"), \"\\n\")\n",
    "\n",
    "# groupby() ile gruplayarak özetleme\n",
    "grup = df.groupby(\"departman\").agg({\n",
    "    \"maaş\": [\"mean\", \"max\", \"min\"],\n",
    "    \"deneyim\": \"mean\"\n",
    "})\n",
    "print(\"Departman bazlı maaş ve deneyim özeti:\\n\", grup, \"\\n\")\n",
    "\n",
    "# Gruplama sonrası reset_index()\n",
    "grup_reset = grup.reset_index()\n",
    "print(\"reset_index() ile düzenlenmiş tablo:\\n\", grup_reset)\n"
   ]
  },
  {
   "cell_type": "markdown",
   "id": "b58ac8f3",
   "metadata": {},
   "source": [
    "### Notlar:\n",
    "- `sort_values(\"kolon\", ascending=False)` → Belirli bir kolona göre azalan sıralama yapar.  \n",
    "- `query(\"koşul ifadesi\")` → Filtreleme işlemini okunabilir hale getirir.  \n",
    "- `groupby(\"kolon\")` → Veriyi gruplar, ardından `mean()`, `sum()`, `count()` gibi özet fonksiyonlar uygulanır.  \n",
    "- `agg()` → Birden fazla fonksiyonu aynı anda uygular.  \n",
    "- `reset_index()` → groupby sonrasında indeksleri tekrar normal sütunlara çevirir.\n",
    "\n",
    "---\n",
    "\n",
    "## 🎯 Mini Test\n",
    "1. `maaş` değerine göre en yüksek 3 kişiyi seç.  \n",
    "2. `query()` ile yalnızca `deneyim >= 5` olanları getir.  \n",
    "3. `groupby()` ile her `departman` için ortalama maaşı hesapla.  \n",
    "4. `agg()` kullanarak her `departman` için hem `maaş` ortalamasını hem de maksimumunu bul."
   ]
  },
  {
   "cell_type": "code",
   "execution_count": null,
   "id": "e6f2cd6c",
   "metadata": {},
   "outputs": [],
   "source": []
  },
  {
   "cell_type": "markdown",
   "id": "2c312a36",
   "metadata": {},
   "source": [
    "---"
   ]
  },
  {
   "cell_type": "markdown",
   "id": "95ba54af",
   "metadata": {},
   "source": [
    "# DataFrame Birleştirme ve Join İşlemleri\n",
    "\n",
    "Bu bölümde farklı DataFrame’leri bir araya getirmek için kullanacağımız temel yöntemler:\n",
    "\n",
    "- **concat()** → DataFrame’leri dikey veya yatay olarak birleştirme.  \n",
    "- **merge()** → SQL benzeri join işlemleri (inner, outer, left, right).  \n",
    "- **join()** → index bazlı birleştirme.  \n",
    "\n",
    "Bu yöntemler büyük veri setlerini yönetirken ve farklı kaynaklardan gelen verileri birleştirirken çok kullanışlıdır.\n"
   ]
  },
  {
   "cell_type": "code",
   "execution_count": 27,
   "id": "1188ba3a",
   "metadata": {},
   "outputs": [
    {
     "name": "stdout",
     "output_type": "stream",
     "text": [
      "df1:\n",
      "    id  isim departman\n",
      "0   1   Ali        IT\n",
      "1   2  Veli        IT\n",
      "2   3  Ayşe        HR \n",
      "\n",
      "df2:\n",
      "    id   maaş  deneyim\n",
      "0   2  15000        5\n",
      "1   3  13000        4\n",
      "2   4  18000        6 \n",
      "\n",
      "concat (dikey):\n",
      "    id  isim departman     maaş  deneyim\n",
      "0   1   Ali        IT      NaN      NaN\n",
      "1   2  Veli        IT      NaN      NaN\n",
      "2   3  Ayşe        HR      NaN      NaN\n",
      "3   2   NaN       NaN  15000.0      5.0\n",
      "4   3   NaN       NaN  13000.0      4.0\n",
      "5   4   NaN       NaN  18000.0      6.0 \n",
      "\n",
      "concat (yatay):\n",
      "    id  isim departman  id   maaş  deneyim\n",
      "0   1   Ali        IT   2  15000        5\n",
      "1   2  Veli        IT   3  13000        4\n",
      "2   3  Ayşe        HR   4  18000        6 \n",
      "\n",
      "merge inner join:\n",
      "    id  isim departman   maaş  deneyim\n",
      "0   2  Veli        IT  15000        5\n",
      "1   3  Ayşe        HR  13000        4 \n",
      "\n",
      "merge left join:\n",
      "    id  isim departman     maaş  deneyim\n",
      "0   1   Ali        IT      NaN      NaN\n",
      "1   2  Veli        IT  15000.0      5.0\n",
      "2   3  Ayşe        HR  13000.0      4.0 \n",
      "\n",
      "join index bazlı:\n",
      "     isim departman   maaş  deneyim\n",
      "id                                \n",
      "2   Veli        IT  15000        5\n",
      "3   Ayşe        HR  13000        4 \n",
      "\n"
     ]
    }
   ],
   "source": [
    "import pandas as pd\n",
    "\n",
    "# Örnek DataFrame’ler\n",
    "df1 = pd.DataFrame({\n",
    "    \"id\": [1, 2, 3],\n",
    "    \"isim\": [\"Ali\", \"Veli\", \"Ayşe\"],\n",
    "    \"departman\": [\"IT\", \"IT\", \"HR\"]\n",
    "})\n",
    "\n",
    "df2 = pd.DataFrame({\n",
    "    \"id\": [2, 3, 4],\n",
    "    \"maaş\": [15000, 13000, 18000],\n",
    "    \"deneyim\": [5, 4, 6]\n",
    "})\n",
    "\n",
    "print(\"df1:\\n\", df1, \"\\n\")\n",
    "print(\"df2:\\n\", df2, \"\\n\")\n",
    "\n",
    "# concat ile birleştirme (dikey)\n",
    "concat_dikey = pd.concat([df1, df2], axis=0, ignore_index=True)\n",
    "print(\"concat (dikey):\\n\", concat_dikey, \"\\n\")\n",
    "\n",
    "# concat ile birleştirme (yatay)\n",
    "concat_yatay = pd.concat([df1, df2], axis=1)\n",
    "print(\"concat (yatay):\\n\", concat_yatay, \"\\n\")\n",
    "\n",
    "# merge ile inner join (id bazlı)\n",
    "merge_inner = pd.merge(df1, df2, on=\"id\", how=\"inner\")\n",
    "print(\"merge inner join:\\n\", merge_inner, \"\\n\")\n",
    "\n",
    "# merge ile left join\n",
    "merge_left = pd.merge(df1, df2, on=\"id\", how=\"left\")\n",
    "print(\"merge left join:\\n\", merge_left, \"\\n\")\n",
    "\n",
    "# index bazlı join\n",
    "df1_index = df1.set_index(\"id\")\n",
    "df2_index = df2.set_index(\"id\")\n",
    "join_index = df1_index.join(df2_index, how=\"inner\")\n",
    "print(\"join index bazlı:\\n\", join_index, \"\\n\")\n"
   ]
  },
  {
   "cell_type": "markdown",
   "id": "3400115f",
   "metadata": {},
   "source": [
    "### Notlar:\n",
    "- `pd.concat([df1, df2], axis=0)` → Dikey birleştirme (satır ekler).  \n",
    "- `pd.concat([df1, df2], axis=1)` → Yatay birleştirme (sütun ekler).  \n",
    "- `merge(df1, df2, on=\"id\", how=\"inner\")` → Ortak id’leri alır.  \n",
    "- `merge(..., how=\"left\")` → Sol DataFrame’in tüm satırlarını alır, eşleşmeyenleri NaN yapar.  \n",
    "- `join()` → Index bazlı hızlı birleştirme.  \n",
    "\n",
    "\n",
    "## 🎯 Mini Test\n",
    "1. `df1` ve `df2`’yi id bazında outer join ile birleştir.  \n",
    "2. Yalnızca df2’de olup df1’de olmayan id’leri seç.  \n",
    "3. Birleştirilmiş tabloda maaş ortalamasını departmana göre hesapla.\n"
   ]
  },
  {
   "cell_type": "code",
   "execution_count": null,
   "id": "2258cdc3",
   "metadata": {},
   "outputs": [],
   "source": []
  },
  {
   "cell_type": "markdown",
   "id": "d4dfa6d7",
   "metadata": {},
   "source": [
    "---"
   ]
  },
  {
   "cell_type": "markdown",
   "id": "0ba8b178",
   "metadata": {},
   "source": [
    "# Pivot Table ve Crosstab\n",
    "\n",
    "Veriyi özetlemek ve kategorik analizler yapmak için kullanılan güçlü araçlar:\n",
    "\n",
    "- **pivot_table()** → Excel’deki pivot table mantığı, grup bazlı özetler.  \n",
    "- **crosstab()** → İki veya daha fazla kategorik değişkenin sıklık tablosu.  \n",
    "\n",
    "Bu araçlar özellikle satış, anket veya kategori bazlı verilerde hızlı özet çıkarmak için kullanışlıdır.\n"
   ]
  },
  {
   "cell_type": "code",
   "execution_count": 28,
   "id": "b887a6d6",
   "metadata": {},
   "outputs": [
    {
     "name": "stdout",
     "output_type": "stream",
     "text": [
      "Orijinal DataFrame:\n",
      "    isim departman     ay   maas\n",
      "0   Ali        IT   Ocak  15000\n",
      "1  Veli        IT   Ocak  16000\n",
      "2  Ayşe        HR   Ocak  13000\n",
      "3   Ali        IT  Şubat  15500\n",
      "4  Veli        IT  Şubat  16200\n",
      "5  Ayşe        HR  Şubat  13500 \n",
      "\n",
      "Pivot Table (maas ortalaması):\n",
      " ay            Ocak    Şubat\n",
      "departman                  \n",
      "HR         13000.0  13500.0\n",
      "IT         15500.0  15850.0 \n",
      "\n",
      "Crosstab (isim vs ay):\n",
      " ay    Ocak  Şubat\n",
      "isim             \n",
      "Ali      1      1\n",
      "Ayşe     1      1\n",
      "Veli     1      1 \n",
      "\n"
     ]
    }
   ],
   "source": [
    "import pandas as pd\n",
    "\n",
    "# Örnek veri\n",
    "data = {\n",
    "    \"isim\": [\"Ali\", \"Veli\", \"Ayşe\", \"Ali\", \"Veli\", \"Ayşe\"],\n",
    "    \"departman\": [\"IT\", \"IT\", \"HR\", \"IT\", \"IT\", \"HR\"],\n",
    "    \"ay\": [\"Ocak\", \"Ocak\", \"Ocak\", \"Şubat\", \"Şubat\", \"Şubat\"],\n",
    "    \"maas\": [15000, 16000, 13000, 15500, 16200, 13500]\n",
    "}\n",
    "\n",
    "df = pd.DataFrame(data)\n",
    "print(\"Orijinal DataFrame:\\n\", df, \"\\n\")\n",
    "\n",
    "# pivot_table ile departman bazında maaş ortalaması\n",
    "pivot = pd.pivot_table(df, values=\"maas\", index=\"departman\", columns=\"ay\", aggfunc=\"mean\")\n",
    "print(\"Pivot Table (maas ortalaması):\\n\", pivot, \"\\n\")\n",
    "\n",
    "# crosstab ile isim ve ay bazında sayı\n",
    "crosstab = pd.crosstab(df[\"isim\"], df[\"ay\"])\n",
    "print(\"Crosstab (isim vs ay):\\n\", crosstab, \"\\n\")\n"
   ]
  },
  {
   "cell_type": "markdown",
   "id": "dabf14e2",
   "metadata": {},
   "source": [
    "### Notlar:\n",
    "- `pivot_table(values, index, columns, aggfunc)` → İlgili değerlerin özetini verir.  \n",
    "- `aggfunc=\"mean\"` → Ortalama, `\"sum\"` → Toplam, `\"count\"` → Adet gibi kullanılabilir.  \n",
    "- `pd.crosstab(df[\"isim\"], df[\"ay\"])` → İsim ve ay bazında kaç kayıt olduğunu sayar.  \n",
    "\n",
    "---\n",
    "\n",
    "## 🎯 Mini Test\n",
    "1. Departman ve ay bazında maaş toplamını pivot_table ile hesapla.  \n",
    "2. İsim ve departman bazında kayıt adedini crosstab ile bul.  \n",
    "3. Pivot tabloyu `fill_value=0` ile boş değerleri sıfırla.\n"
   ]
  },
  {
   "cell_type": "code",
   "execution_count": null,
   "id": "fe5c0bdb",
   "metadata": {},
   "outputs": [],
   "source": []
  },
  {
   "cell_type": "markdown",
   "id": "e1d14e6c",
   "metadata": {},
   "source": [
    "# GroupBy ve Aggregation\n",
    "\n",
    "`groupby()` fonksiyonu, veri üzerinde gruplama yaparak özet istatistikler çıkarmamıza yarar.  \n",
    "Kategorik değişkenlere göre sayısal verileri analiz etmek için çok güçlüdür.\n",
    "\n",
    "- **groupby()** → Belirli bir veya birden fazla sütuna göre gruplama.  \n",
    "- **agg() / mean() / sum() / count()** → Gruplar üzerinde özet fonksiyonları.  \n"
   ]
  },
  {
   "cell_type": "code",
   "execution_count": 29,
   "id": "ce02d308",
   "metadata": {},
   "outputs": [
    {
     "name": "stdout",
     "output_type": "stream",
     "text": [
      "Orijinal DataFrame:\n",
      "   departman    isim   maas  yas\n",
      "0        IT     Ali  15000   25\n",
      "1        IT    Veli  16000   30\n",
      "2        HR    Ayşe  13000   28\n",
      "3        IT  Mehmet  15500   26\n",
      "4        HR   Fatma  14000   32\n",
      "5        HR     Can  13500   29 \n",
      "\n",
      "Departman Bazında Ortalama Maaş:\n",
      " departman\n",
      "HR    13500.0\n",
      "IT    15500.0\n",
      "Name: maas, dtype: float64 \n",
      "\n",
      "Departman Bazında Maaş ve Yaş Ortalaması:\n",
      "               maas        yas\n",
      "departman                    \n",
      "HR         13500.0  29.666667\n",
      "IT         15500.0  27.000000 \n",
      "\n",
      "Departman Bazında Kişi Sayısı:\n",
      " departman\n",
      "HR    3\n",
      "IT    3\n",
      "Name: isim, dtype: int64 \n",
      "\n"
     ]
    }
   ],
   "source": [
    "import pandas as pd\n",
    "\n",
    "# Örnek veri\n",
    "data = {\n",
    "    \"departman\": [\"IT\", \"IT\", \"HR\", \"IT\", \"HR\", \"HR\"],\n",
    "    \"isim\": [\"Ali\", \"Veli\", \"Ayşe\", \"Mehmet\", \"Fatma\", \"Can\"],\n",
    "    \"maas\": [15000, 16000, 13000, 15500, 14000, 13500],\n",
    "    \"yas\": [25, 30, 28, 26, 32, 29]\n",
    "}\n",
    "\n",
    "df = pd.DataFrame(data)\n",
    "print(\"Orijinal DataFrame:\\n\", df, \"\\n\")\n",
    "\n",
    "# departman bazında maaş ortalaması\n",
    "ortalama = df.groupby(\"departman\")[\"maas\"].mean()\n",
    "print(\"Departman Bazında Ortalama Maaş:\\n\", ortalama, \"\\n\")\n",
    "\n",
    "# departman bazında maaş ve yaşın ortalaması\n",
    "agg_df = df.groupby(\"departman\").agg({\"maas\":\"mean\", \"yas\":\"mean\"})\n",
    "print(\"Departman Bazında Maaş ve Yaş Ortalaması:\\n\", agg_df, \"\\n\")\n",
    "\n",
    "# departman bazında kişi sayısı\n",
    "count_df = df.groupby(\"departman\")[\"isim\"].count()\n",
    "print(\"Departman Bazında Kişi Sayısı:\\n\", count_df, \"\\n\")\n"
   ]
  },
  {
   "cell_type": "markdown",
   "id": "7f3c8063",
   "metadata": {},
   "source": [
    "### Notlar:\n",
    "- `groupby(\"sütun\")` → Sütun değerlerine göre gruplama yapar.  \n",
    "- `agg({\"sütun\":\"func\"})` → Farklı sütunlara farklı fonksiyonlar uygulamak için kullanılır.  \n",
    "- `count()` → Gruplardaki kayıt sayısını verir.  \n",
    "- `mean()` → Ortalama, `sum()` → Toplam, `max()/min()` → En yüksek/en düşük değer.  \n",
    "\n",
    "\n",
    "\n",
    "## 🎯 Mini Test\n",
    "1. Departman bazında maaş toplamını hesapla.  \n",
    "2. Departman bazında yaşın maksimum ve minimum değerlerini bul.  \n",
    "3. Birden fazla sütunu gruplayıp hem ortalama hem toplam değerleri göster.\n"
   ]
  },
  {
   "cell_type": "code",
   "execution_count": null,
   "id": "71e9b35b",
   "metadata": {},
   "outputs": [],
   "source": []
  },
  {
   "cell_type": "markdown",
   "id": "99c38dbf",
   "metadata": {},
   "source": [
    "# Veri Birleştirme (merge & concat)\n",
    "\n",
    "Pandas’ta farklı DataFrame’leri birleştirmek için kullanılan iki ana yöntem vardır:\n",
    "\n",
    "- **concat()** → DataFrame’leri eksen bazlı birleştirme (alt alta veya yan yana).  \n",
    "- **merge()** → SQL’deki JOIN mantığıyla anahtar sütuna göre birleştirme.  \n"
   ]
  },
  {
   "cell_type": "code",
   "execution_count": 30,
   "id": "dc3e35f3",
   "metadata": {},
   "outputs": [
    {
     "name": "stdout",
     "output_type": "stream",
     "text": [
      "Concat (alt alta) :\n",
      "    id  isim     maas departman\n",
      "0   1   Ali  15000.0       NaN\n",
      "1   2  Veli  16000.0       NaN\n",
      "2   3  Ayşe  13000.0       NaN\n",
      "3   2  Veli      NaN        IT\n",
      "4   3  Ayşe      NaN        HR\n",
      "5   4   Can      NaN        IT \n",
      "\n",
      "Merge Inner Join :\n",
      "    id isim_x   maas isim_y departman\n",
      "0   2   Veli  16000   Veli        IT\n",
      "1   3   Ayşe  13000   Ayşe        HR \n",
      "\n",
      "Merge Left Join :\n",
      "    id isim_x   maas isim_y departman\n",
      "0   1    Ali  15000    NaN       NaN\n",
      "1   2   Veli  16000   Veli        IT\n",
      "2   3   Ayşe  13000   Ayşe        HR \n",
      "\n"
     ]
    }
   ],
   "source": [
    "import pandas as pd\n",
    "\n",
    "# Örnek veri 1\n",
    "df1 = pd.DataFrame({\n",
    "    \"id\": [1, 2, 3],\n",
    "    \"isim\": [\"Ali\", \"Veli\", \"Ayşe\"],\n",
    "    \"maas\": [15000, 16000, 13000]\n",
    "})\n",
    "\n",
    "# Örnek veri 2\n",
    "df2 = pd.DataFrame({\n",
    "    \"id\": [2, 3, 4],\n",
    "    \"isim\": [\"Veli\", \"Ayşe\", \"Can\"],\n",
    "    \"departman\": [\"IT\", \"HR\", \"IT\"]\n",
    "})\n",
    "\n",
    "# concat ile alt alta birleştirme\n",
    "concat_df = pd.concat([df1, df2], ignore_index=True)\n",
    "print(\"Concat (alt alta) :\\n\", concat_df, \"\\n\")\n",
    "\n",
    "# merge ile inner join (id sütununa göre)\n",
    "merge_inner = pd.merge(df1, df2, on=\"id\", how=\"inner\")\n",
    "print(\"Merge Inner Join :\\n\", merge_inner, \"\\n\")\n",
    "\n",
    "# merge ile left join\n",
    "merge_left = pd.merge(df1, df2, on=\"id\", how=\"left\")\n",
    "print(\"Merge Left Join :\\n\", merge_left, \"\\n\")\n"
   ]
  },
  {
   "cell_type": "markdown",
   "id": "3b103c2c",
   "metadata": {},
   "source": [
    "### Notlar:\n",
    "- `concat([df1, df2], axis=0)` → Alt alta, `axis=1` → Yan yana birleştirir.  \n",
    "- `ignore_index=True` → Eski indexleri göz ardı edip yeni index oluşturur.  \n",
    "- `merge(df1, df2, on=\"sütun\", how=\"inner/left/right/outer\")` → JOIN mantığıyla birleştirir.  \n",
    "- `inner` → ortak kayıtlar, `left` → sol DataFrame, `right` → sağ DataFrame, `outer` → tüm kayıtlar.  \n",
    "\n",
    "\n",
    "## 🎯 Mini Test\n",
    "1. İki DataFrame’i `concat` ile yan yana birleştir.  \n",
    "2. `merge` ile outer join yapıp tüm id’leri tut.  \n",
    "3. `merge` ile sadece ortak id’leri göster.\n"
   ]
  },
  {
   "cell_type": "code",
   "execution_count": null,
   "id": "32e3a57d",
   "metadata": {},
   "outputs": [],
   "source": []
  },
  {
   "cell_type": "markdown",
   "id": "d2da7504",
   "metadata": {},
   "source": [
    "---"
   ]
  },
  {
   "cell_type": "markdown",
   "id": "0c3d3083",
   "metadata": {},
   "source": [
    "# Tarih ve Zaman Verileri\n",
    "\n",
    "Pandas, tarih ve zaman verilerini işlemek için güçlü fonksiyonlar sunar:\n",
    "\n",
    "- `pd.to_datetime()` → String, liste veya sütunları datetime formatına çevirir.\n",
    "- `Timestamp` → Tek bir tarih-zaman değeri.\n",
    "- `DatetimeIndex` → VeriFrame veya Series için tarih-zaman indeksleri.\n",
    "- `.dt` accessor → Tarih-saat bileşenlerine erişim sağlar (yıl, ay, gün, saat vb.).\n",
    "- Tarih aralıkları oluşturmak için `pd.date_range()` kullanılabilir.\n",
    "- Tarih ve zaman ile filtreleme ve gruplama (`resample`) yapılabilir.\n"
   ]
  },
  {
   "cell_type": "code",
   "execution_count": 31,
   "id": "dee5c7db",
   "metadata": {},
   "outputs": [
    {
     "name": "stdout",
     "output_type": "stream",
     "text": [
      "       Tarih  Satış   Yıl  Ay  Gün\n",
      "0 2025-01-01    200  2025   1    1\n",
      "1 2025-01-02    220  2025   1    2\n",
      "2 2025-01-03    250  2025   1    3\n",
      "3 2025-01-04    270  2025   1    4\n",
      "\n",
      "Tarih Aralığı:\n",
      " DatetimeIndex(['2025-01-01', '2025-01-02', '2025-01-03', '2025-01-04',\n",
      "               '2025-01-05', '2025-01-06', '2025-01-07', '2025-01-08',\n",
      "               '2025-01-09', '2025-01-10'],\n",
      "              dtype='datetime64[ns]', freq='D')\n",
      "\n",
      "Filtrelenmiş Veri:\n",
      "        Tarih  Satış   Yıl  Ay  Gün\n",
      "2 2025-01-03    250  2025   1    3\n",
      "3 2025-01-04    270  2025   1    4\n"
     ]
    }
   ],
   "source": [
    "import pandas as pd\n",
    "\n",
    "# Örnek veri\n",
    "data = {\n",
    "    \"Tarih\": [\"2025-01-01\", \"2025-01-02\", \"2025-01-03\", \"2025-01-04\"],\n",
    "    \"Satış\": [200, 220, 250, 270]\n",
    "}\n",
    "\n",
    "df = pd.DataFrame(data)\n",
    "\n",
    "# Tarih sütununu datetime formatına çevirme\n",
    "df[\"Tarih\"] = pd.to_datetime(df[\"Tarih\"])\n",
    "\n",
    "# Tarih bileşenlerine erişim\n",
    "df[\"Yıl\"] = df[\"Tarih\"].dt.year\n",
    "df[\"Ay\"] = df[\"Tarih\"].dt.month\n",
    "df[\"Gün\"] = df[\"Tarih\"].dt.day\n",
    "print(df)\n",
    "\n",
    "# Tarih aralığı oluşturma\n",
    "date_rng = pd.date_range(start=\"2025-01-01\", end=\"2025-01-10\")\n",
    "print(\"\\nTarih Aralığı:\\n\", date_rng)\n",
    "\n",
    "# Tarih filtresi: Ocak 3 ve sonrası\n",
    "filtered = df[df[\"Tarih\"] >= \"2025-01-03\"]\n",
    "print(\"\\nFiltrelenmiş Veri:\\n\", filtered)\n"
   ]
  },
  {
   "cell_type": "markdown",
   "id": "505283ed",
   "metadata": {},
   "source": [
    "## 🎯 Mini Test\n",
    "\n",
    "1. Bir tarih ve saat sütunu oluşturun (ör: \"2025-10-01 08:00:00\", \"2025-10-02 09:30:00\")\n",
    "2. Tarih sütununu datetime formatına çevirin\n",
    "3. Yıl, ay, gün, saat ve dakika bilgilerini ayrı sütunlarda gösterin\n",
    "4. Belirli bir tarihten sonraki verileri filtreleyin\n",
    "5. Günlük veya saatlik toplamları görmek için `resample()` kullanın\n"
   ]
  },
  {
   "cell_type": "code",
   "execution_count": null,
   "id": "6f71f17b",
   "metadata": {},
   "outputs": [],
   "source": []
  },
  {
   "cell_type": "markdown",
   "id": "f8d30ba8",
   "metadata": {},
   "source": [
    "---"
   ]
  },
  {
   "cell_type": "markdown",
   "id": "8a5df276",
   "metadata": {},
   "source": [
    "# Zaman Serisi İndeksleme ve Yeniden Örnekleme (Resampling)\n",
    "\n",
    "Pandas, zaman serisi verilerini analiz etmek için güçlü araçlar sunar:\n",
    "\n",
    "- Zaman serisi için **Tarih-Saat indeksleri (DatetimeIndex)** kullanılır.\n",
    "- `.set_index()` ile bir tarih sütununu indeks olarak ayarlayabilirsiniz.\n",
    "- `.resample()` → Zaman serisini yeniden örneklemek için kullanılır (günlük, haftalık, aylık vb.).\n",
    "- `.resample()` ile birlikte **aggregation** fonksiyonları (`sum`, `mean`, `max`, `min`) uygulanabilir.\n",
    "- Zaman filtresi ve kaydırma işlemleri `.loc[]` ve `.shift()` ile yapılabilir.\n"
   ]
  },
  {
   "cell_type": "code",
   "execution_count": 32,
   "id": "6225ae32",
   "metadata": {},
   "outputs": [
    {
     "name": "stdout",
     "output_type": "stream",
     "text": [
      "Haftalık Toplam:\n",
      "             Satış\n",
      "Tarih            \n",
      "2025-01-05   1170\n",
      "2025-01-12   1290\n",
      "\n",
      "Haftalık Ortalama:\n",
      "             Satış\n",
      "Tarih            \n",
      "2025-01-05  234.0\n",
      "2025-01-12  258.0\n",
      "\n",
      "Filtrelenmiş Veri:\n",
      "             Satış\n",
      "Tarih            \n",
      "2025-01-05    230\n",
      "2025-01-06    210\n",
      "2025-01-07    240\n",
      "2025-01-08    260\n",
      "2025-01-09    280\n",
      "2025-01-10    300\n",
      "\n",
      "Kaydırılmış Veri:\n",
      "             Satış\n",
      "Tarih            \n",
      "2025-01-01    NaN\n",
      "2025-01-02  200.0\n",
      "2025-01-03  220.0\n",
      "2025-01-04  250.0\n",
      "2025-01-05  270.0\n",
      "2025-01-06  230.0\n",
      "2025-01-07  210.0\n",
      "2025-01-08  240.0\n",
      "2025-01-09  260.0\n",
      "2025-01-10  280.0\n"
     ]
    }
   ],
   "source": [
    "import pandas as pd\n",
    "\n",
    "# Örnek zaman serisi verisi\n",
    "data = {\n",
    "    \"Tarih\": pd.date_range(start=\"2025-01-01\", end=\"2025-01-10\"),\n",
    "    \"Satış\": [200, 220, 250, 270, 230, 210, 240, 260, 280, 300]\n",
    "}\n",
    "\n",
    "df = pd.DataFrame(data)\n",
    "\n",
    "# Tarih sütununu indeks yapma\n",
    "df.set_index(\"Tarih\", inplace=True)\n",
    "\n",
    "# Günlük veriyi haftalık toplam ile yeniden örnekleme\n",
    "weekly_sum = df.resample(\"W\").sum()\n",
    "print(\"Haftalık Toplam:\\n\", weekly_sum)\n",
    "\n",
    "# Haftalık ortalama\n",
    "weekly_mean = df.resample(\"W\").mean()\n",
    "print(\"\\nHaftalık Ortalama:\\n\", weekly_mean)\n",
    "\n",
    "# Zaman filtresi: 2025-01-05 sonrası\n",
    "filtered = df.loc[\"2025-01-05\":]\n",
    "print(\"\\nFiltrelenmiş Veri:\\n\", filtered)\n",
    "\n",
    "# Bir gün ileri kaydırma\n",
    "shifted = df.shift(1)\n",
    "print(\"\\nKaydırılmış Veri:\\n\", shifted)\n"
   ]
  },
  {
   "cell_type": "markdown",
   "id": "55d69540",
   "metadata": {},
   "source": [
    "## 🎯 Mini Test\n",
    "\n",
    "1. Bir zaman serisi oluşturun (10 günlük veri, satış miktarları)\n",
    "2. Tarih sütununu indeks yapın\n",
    "3. Haftalık ve aylık toplamları hesaplayın\n",
    "4. Belirli bir tarih aralığını filtreleyin\n",
    "5. Günlük veriyi 1 gün ileri kaydırın ve farkı hesaplayın\n"
   ]
  },
  {
   "cell_type": "code",
   "execution_count": null,
   "id": "9c28d58b",
   "metadata": {},
   "outputs": [],
   "source": []
  },
  {
   "cell_type": "markdown",
   "id": "5ab6e956",
   "metadata": {},
   "source": [
    "---"
   ]
  },
  {
   "cell_type": "markdown",
   "id": "90d6a599",
   "metadata": {},
   "source": []
  }
 ],
 "metadata": {
  "kernelspec": {
   "display_name": ".venv",
   "language": "python",
   "name": "python3"
  },
  "language_info": {
   "codemirror_mode": {
    "name": "ipython",
    "version": 3
   },
   "file_extension": ".py",
   "mimetype": "text/x-python",
   "name": "python",
   "nbconvert_exporter": "python",
   "pygments_lexer": "ipython3",
   "version": "3.12.5"
  }
 },
 "nbformat": 4,
 "nbformat_minor": 5
}
